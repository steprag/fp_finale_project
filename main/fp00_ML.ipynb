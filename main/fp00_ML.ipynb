{
 "cells": [
  {
   "cell_type": "code",
   "execution_count": 1,
   "metadata": {},
   "outputs": [],
   "source": [
    "import pandas as pd\n",
    "import numpy as np\n",
    "import matplotlib.pyplot as plt \n",
    "import matplotlib.ticker as ticker\n",
    "import seaborn as sns \n",
    "import geopandas as gpd"
   ]
  },
  {
   "cell_type": "code",
   "execution_count": null,
   "metadata": {},
   "outputs": [],
   "source": [
    "salary = pd.read_csv('dataset/clean_data/salary_concat.csv', sep=',')\n",
    "salary_all = pd.read_csv('dataset/clean_data/salary_final.csv', sep=',')\n",
    "population = pd.read_csv('dataset/clean_data/population_clean.csv', sep=',')\n",
    "population_all = pd.read_csv('dataset/clean_data/population_final.csv', sep=',')\n",
    "geography = pd.read_csv('dataset/clean_data/geography_clean.csv', sep=',')\n",
    "establishment = pd.read_csv('dataset/clean_data/establishment_clean.csv', sep=',')"
   ]
  }
 ],
 "metadata": {
  "kernelspec": {
   "display_name": "base",
   "language": "python",
   "name": "python3"
  },
  "language_info": {
   "codemirror_mode": {
    "name": "ipython",
    "version": 3
   },
   "file_extension": ".py",
   "mimetype": "text/x-python",
   "name": "python",
   "nbconvert_exporter": "python",
   "pygments_lexer": "ipython3",
   "version": "3.11.8"
  }
 },
 "nbformat": 4,
 "nbformat_minor": 2
}
